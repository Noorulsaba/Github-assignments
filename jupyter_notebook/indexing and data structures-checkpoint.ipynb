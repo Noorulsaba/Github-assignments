{
 "cells": [
  {
   "cell_type": "markdown",
   "id": "77a89e0a",
   "metadata": {},
   "source": [
    "**_Indexing**"
   ]
  },
  {
   "cell_type": "code",
   "execution_count": 1,
   "id": "03e68bd1",
   "metadata": {},
   "outputs": [
    {
     "data": {
      "text/plain": [
       "'Gol Gappay'"
      ]
     },
     "execution_count": 1,
     "metadata": {},
     "output_type": "execute_result"
    }
   ],
   "source": [
    "#make a string\n",
    "a= \"Gol Gappay\"\n",
    "a"
   ]
  },
  {
   "cell_type": "code",
   "execution_count": 2,
   "id": "3d17a8d6",
   "metadata": {
    "scrolled": true
   },
   "outputs": [
    {
     "data": {
      "text/plain": [
       "'G'"
      ]
     },
     "execution_count": 2,
     "metadata": {},
     "output_type": "execute_result"
    }
   ],
   "source": [
    "a[0]"
   ]
  },
  {
   "cell_type": "code",
   "execution_count": 3,
   "id": "df2244d5",
   "metadata": {
    "scrolled": false
   },
   "outputs": [
    {
     "data": {
      "text/plain": [
       "'G'"
      ]
     },
     "execution_count": 3,
     "metadata": {},
     "output_type": "execute_result"
    }
   ],
   "source": [
    "a[4]"
   ]
  },
  {
   "cell_type": "code",
   "execution_count": 4,
   "id": "f2c0b0ea",
   "metadata": {},
   "outputs": [
    {
     "data": {
      "text/plain": [
       "'y'"
      ]
     },
     "execution_count": 4,
     "metadata": {},
     "output_type": "execute_result"
    }
   ],
   "source": [
    "a[9]"
   ]
  },
  {
   "cell_type": "code",
   "execution_count": 5,
   "id": "8e2dd76b",
   "metadata": {},
   "outputs": [
    {
     "data": {
      "text/plain": [
       "10"
      ]
     },
     "execution_count": 5,
     "metadata": {},
     "output_type": "execute_result"
    }
   ],
   "source": [
    "#length of index\n",
    "len(a)"
   ]
  },
  {
   "cell_type": "code",
   "execution_count": 6,
   "id": "90f27ec2",
   "metadata": {},
   "outputs": [
    {
     "data": {
      "text/plain": [
       "'Gol'"
      ]
     },
     "execution_count": 6,
     "metadata": {},
     "output_type": "execute_result"
    }
   ],
   "source": [
    "#last index is exclusive\n",
    "a[0:3] "
   ]
  },
  {
   "cell_type": "code",
   "execution_count": 7,
   "id": "629eeb8e",
   "metadata": {},
   "outputs": [
    {
     "data": {
      "text/plain": [
       "'Gappay'"
      ]
     },
     "execution_count": 7,
     "metadata": {},
     "output_type": "execute_result"
    }
   ],
   "source": [
    "a[4:11]"
   ]
  },
  {
   "cell_type": "code",
   "execution_count": 8,
   "id": "ed036adc",
   "metadata": {},
   "outputs": [
    {
     "data": {
      "text/plain": [
       "'Gappay'"
      ]
     },
     "execution_count": 8,
     "metadata": {},
     "output_type": "execute_result"
    }
   ],
   "source": [
    "#Write left to right in case of negative numbers\n",
    "a[-6:11]"
   ]
  },
  {
   "cell_type": "code",
   "execution_count": 9,
   "id": "90733773",
   "metadata": {},
   "outputs": [
    {
     "data": {
      "text/plain": [
       "'Russian salad'"
      ]
     },
     "execution_count": 9,
     "metadata": {},
     "output_type": "execute_result"
    }
   ],
   "source": [
    "food= \"Russian salad\"\n",
    "food"
   ]
  },
  {
   "cell_type": "markdown",
   "id": "2d339275",
   "metadata": {},
   "source": [
    "**string methods**"
   ]
  },
  {
   "cell_type": "code",
   "execution_count": 10,
   "id": "d018d008",
   "metadata": {},
   "outputs": [
    {
     "data": {
      "text/plain": [
       "'Russian salad'"
      ]
     },
     "execution_count": 10,
     "metadata": {},
     "output_type": "execute_result"
    }
   ],
   "source": [
    "food"
   ]
  },
  {
   "cell_type": "code",
   "execution_count": 11,
   "id": "77994d3f",
   "metadata": {},
   "outputs": [
    {
     "data": {
      "text/plain": [
       "13"
      ]
     },
     "execution_count": 11,
     "metadata": {},
     "output_type": "execute_result"
    }
   ],
   "source": [
    "len(food)"
   ]
  },
  {
   "cell_type": "code",
   "execution_count": 12,
   "id": "7725bfcd",
   "metadata": {},
   "outputs": [
    {
     "data": {
      "text/plain": [
       "'RUSSIAN SALAD'"
      ]
     },
     "execution_count": 12,
     "metadata": {},
     "output_type": "execute_result"
    }
   ],
   "source": [
    "food.upper()"
   ]
  },
  {
   "cell_type": "code",
   "execution_count": 13,
   "id": "64608560",
   "metadata": {
    "scrolled": true
   },
   "outputs": [
    {
     "data": {
      "text/plain": [
       "'russian salad'"
      ]
     },
     "execution_count": 13,
     "metadata": {},
     "output_type": "execute_result"
    }
   ],
   "source": [
    "food.lower()"
   ]
  },
  {
   "cell_type": "code",
   "execution_count": 14,
   "id": "be60d003",
   "metadata": {},
   "outputs": [
    {
     "data": {
      "text/plain": [
       "'Russian salad'"
      ]
     },
     "execution_count": 14,
     "metadata": {},
     "output_type": "execute_result"
    }
   ],
   "source": [
    "food.capitalize()"
   ]
  },
  {
   "cell_type": "code",
   "execution_count": 15,
   "id": "d001eb93",
   "metadata": {},
   "outputs": [
    {
     "data": {
      "text/plain": [
       "'Vussian salad'"
      ]
     },
     "execution_count": 15,
     "metadata": {},
     "output_type": "execute_result"
    }
   ],
   "source": [
    "food.replace(\"R\",\"V\")"
   ]
  },
  {
   "cell_type": "code",
   "execution_count": 16,
   "id": "e2c5ef25",
   "metadata": {},
   "outputs": [
    {
     "data": {
      "text/plain": [
       "9"
      ]
     },
     "execution_count": 16,
     "metadata": {},
     "output_type": "execute_result"
    }
   ],
   "source": [
    "#counting a specific element in a string\n",
    "days= \"monday tuesday wednesday\"\n",
    "days.find(\"e\")"
   ]
  },
  {
   "cell_type": "code",
   "execution_count": 17,
   "id": "264ff2f8",
   "metadata": {},
   "outputs": [
    {
     "data": {
      "text/plain": [
       "3"
      ]
     },
     "execution_count": 17,
     "metadata": {},
     "output_type": "execute_result"
    }
   ],
   "source": [
    "#finding an index number in a string\n",
    "days.count(\"y\")"
   ]
  },
  {
   "cell_type": "code",
   "execution_count": 18,
   "id": "e8808da6",
   "metadata": {
    "scrolled": true
   },
   "outputs": [
    {
     "data": {
      "text/plain": [
       "['I love samosa', ' pakora', ' biryani and raita']"
      ]
     },
     "execution_count": 18,
     "metadata": {},
     "output_type": "execute_result"
    }
   ],
   "source": [
    "#how to split a string\n",
    "food= \"I love samosa, pakora, biryani and raita\"\n",
    "food.split(\",\")"
   ]
  },
  {
   "cell_type": "markdown",
   "id": "d7a986ab",
   "metadata": {},
   "source": [
    "# _Basic data structures in Python\n",
    "\n",
    "1. Tuples\n",
    "2. List\n",
    "3. Dictionaries\n",
    "4. Set"
   ]
  },
  {
   "cell_type": "markdown",
   "id": "c83aa893",
   "metadata": {},
   "source": [
    "## 1_ Tuples\n",
    " - ordered collection of elements\n",
    " - enclosed in ()\n",
    " - Different kind of elements can be used\n",
    " - Once elements are stored,you can not chnage them (unmutable)"
   ]
  },
  {
   "cell_type": "code",
   "execution_count": 19,
   "id": "8dd64c30",
   "metadata": {},
   "outputs": [
    {
     "data": {
      "text/plain": [
       "(12, 9.9, 'autodock', True)"
      ]
     },
     "execution_count": 19,
     "metadata": {},
     "output_type": "execute_result"
    }
   ],
   "source": [
    "tup1 = (12, 9.9, \"autodock\", True)\n",
    "tup1"
   ]
  },
  {
   "cell_type": "code",
   "execution_count": 20,
   "id": "36ad7ad9",
   "metadata": {},
   "outputs": [
    {
     "data": {
      "text/plain": [
       "tuple"
      ]
     },
     "execution_count": 20,
     "metadata": {},
     "output_type": "execute_result"
    }
   ],
   "source": [
    "# type of tuple\n",
    "type(tup1)"
   ]
  },
  {
   "cell_type": "markdown",
   "id": "622e0d3e",
   "metadata": {},
   "source": [
    "### - Indexing in tuple"
   ]
  },
  {
   "cell_type": "code",
   "execution_count": 21,
   "id": "39fe2aa0",
   "metadata": {},
   "outputs": [
    {
     "data": {
      "text/plain": [
       "9.9"
      ]
     },
     "execution_count": 21,
     "metadata": {},
     "output_type": "execute_result"
    }
   ],
   "source": [
    "tup1[1]"
   ]
  },
  {
   "cell_type": "code",
   "execution_count": 22,
   "id": "d92ae45e",
   "metadata": {},
   "outputs": [
    {
     "data": {
      "text/plain": [
       "True"
      ]
     },
     "execution_count": 22,
     "metadata": {},
     "output_type": "execute_result"
    }
   ],
   "source": [
    "tup1[3]"
   ]
  },
  {
   "cell_type": "code",
   "execution_count": 23,
   "id": "a43946cb",
   "metadata": {},
   "outputs": [
    {
     "data": {
      "text/plain": [
       "(12, 9.9, 'autodock', True)"
      ]
     },
     "execution_count": 23,
     "metadata": {},
     "output_type": "execute_result"
    }
   ],
   "source": [
    "tup1[0:4]"
   ]
  },
  {
   "cell_type": "code",
   "execution_count": 24,
   "id": "43965bf6",
   "metadata": {},
   "outputs": [
    {
     "data": {
      "text/plain": [
       "4"
      ]
     },
     "execution_count": 24,
     "metadata": {},
     "output_type": "execute_result"
    }
   ],
   "source": [
    "len(tup1)"
   ]
  },
  {
   "cell_type": "code",
   "execution_count": 25,
   "id": "2a4e4650",
   "metadata": {},
   "outputs": [
    {
     "data": {
      "text/plain": [
       "(144, 12.2, 2.8, 'Noor', True, False, 7.8, 239)"
      ]
     },
     "execution_count": 25,
     "metadata": {},
     "output_type": "execute_result"
    }
   ],
   "source": [
    "tup2= (144, 12.2, 2.8,\"Noor\", True, False, 7.8, 239)\n",
    "tup2"
   ]
  },
  {
   "cell_type": "code",
   "execution_count": 26,
   "id": "a7f9b926",
   "metadata": {},
   "outputs": [
    {
     "data": {
      "text/plain": [
       "(12, 9.9, 'autodock', True, 144, 12.2, 2.8, 'Noor', True, False, 7.8, 239)"
      ]
     },
     "execution_count": 26,
     "metadata": {},
     "output_type": "execute_result"
    }
   ],
   "source": [
    "#concatinate (to add)\n",
    "tup1 + tup2"
   ]
  },
  {
   "cell_type": "code",
   "execution_count": 27,
   "id": "2c536364",
   "metadata": {},
   "outputs": [
    {
     "data": {
      "text/plain": [
       "(12,\n",
       " 9.9,\n",
       " 'autodock',\n",
       " True,\n",
       " 12,\n",
       " 9.9,\n",
       " 'autodock',\n",
       " True,\n",
       " 144,\n",
       " 12.2,\n",
       " 2.8,\n",
       " 'Noor',\n",
       " True,\n",
       " False,\n",
       " 7.8,\n",
       " 239)"
      ]
     },
     "execution_count": 27,
     "metadata": {},
     "output_type": "execute_result"
    }
   ],
   "source": [
    "#concatinate + repeat\n",
    "tup1*2 + tup2"
   ]
  },
  {
   "cell_type": "code",
   "execution_count": 28,
   "id": "ec500e8b",
   "metadata": {},
   "outputs": [
    {
     "data": {
      "text/plain": [
       "(20, 40, 60, 80, 100, 120, 140)"
      ]
     },
     "execution_count": 28,
     "metadata": {},
     "output_type": "execute_result"
    }
   ],
   "source": [
    "tup3= (20,40,60,80,100,120,140)\n",
    "tup3"
   ]
  },
  {
   "cell_type": "code",
   "execution_count": 29,
   "id": "c7c0dc13",
   "metadata": {},
   "outputs": [
    {
     "data": {
      "text/plain": [
       "20"
      ]
     },
     "execution_count": 29,
     "metadata": {},
     "output_type": "execute_result"
    }
   ],
   "source": [
    "min(tup3)"
   ]
  },
  {
   "cell_type": "code",
   "execution_count": 30,
   "id": "af8dde42",
   "metadata": {},
   "outputs": [
    {
     "data": {
      "text/plain": [
       "140"
      ]
     },
     "execution_count": 30,
     "metadata": {},
     "output_type": "execute_result"
    }
   ],
   "source": [
    "max(tup3)"
   ]
  },
  {
   "cell_type": "code",
   "execution_count": 31,
   "id": "0659715c",
   "metadata": {},
   "outputs": [
    {
     "data": {
      "text/plain": [
       "(20, 40, 60, 80, 100, 120, 140, 20, 40, 60, 80, 100, 120, 140)"
      ]
     },
     "execution_count": 31,
     "metadata": {},
     "output_type": "execute_result"
    }
   ],
   "source": [
    "tup3*2"
   ]
  },
  {
   "cell_type": "markdown",
   "id": "258141a7",
   "metadata": {},
   "source": [
    "---"
   ]
  },
  {
   "cell_type": "markdown",
   "id": "b71e5fae",
   "metadata": {},
   "source": [
    "## 2- List\n",
    " - ordered collection of elements\n",
    " - enclosed in [ ]\n",
    " - mutateable, you can change the values"
   ]
  },
  {
   "cell_type": "code",
   "execution_count": 32,
   "id": "da267d5b",
   "metadata": {},
   "outputs": [
    {
     "data": {
      "text/plain": [
       "[12, 9.9, 'autodock', True]"
      ]
     },
     "execution_count": 32,
     "metadata": {},
     "output_type": "execute_result"
    }
   ],
   "source": [
    "list1= [12, 9.9, \"autodock\", True]\n",
    "list1"
   ]
  },
  {
   "cell_type": "code",
   "execution_count": 33,
   "id": "53844066",
   "metadata": {},
   "outputs": [
    {
     "data": {
      "text/plain": [
       "list"
      ]
     },
     "execution_count": 33,
     "metadata": {},
     "output_type": "execute_result"
    }
   ],
   "source": [
    "type(list1)"
   ]
  },
  {
   "cell_type": "code",
   "execution_count": 34,
   "id": "3af908fc",
   "metadata": {},
   "outputs": [
    {
     "data": {
      "text/plain": [
       "4"
      ]
     },
     "execution_count": 34,
     "metadata": {},
     "output_type": "execute_result"
    }
   ],
   "source": [
    "len(list1)"
   ]
  },
  {
   "cell_type": "code",
   "execution_count": 35,
   "id": "35f52ce4",
   "metadata": {},
   "outputs": [
    {
     "data": {
      "text/plain": [
       "'autodock'"
      ]
     },
     "execution_count": 35,
     "metadata": {},
     "output_type": "execute_result"
    }
   ],
   "source": [
    "list1[2]"
   ]
  },
  {
   "cell_type": "code",
   "execution_count": 36,
   "id": "35df6c82",
   "metadata": {},
   "outputs": [
    {
     "data": {
      "text/plain": [
       "[12, 9.9, 'autodock', True, 144, 12.2, 2.8, 'Noor', True, False, 7.8, 239]"
      ]
     },
     "execution_count": 36,
     "metadata": {},
     "output_type": "execute_result"
    }
   ],
   "source": [
    "list2= [12, 9.9, 'autodock', True, 144, 12.2, 2.8, 'Noor', True, False, 7.8, 239]\n",
    "list2"
   ]
  },
  {
   "cell_type": "code",
   "execution_count": 37,
   "id": "88bfa523",
   "metadata": {},
   "outputs": [
    {
     "data": {
      "text/plain": [
       "[12,\n",
       " 9.9,\n",
       " 'autodock',\n",
       " True,\n",
       " 12,\n",
       " 9.9,\n",
       " 'autodock',\n",
       " True,\n",
       " 144,\n",
       " 12.2,\n",
       " 2.8,\n",
       " 'Noor',\n",
       " True,\n",
       " False,\n",
       " 7.8,\n",
       " 239]"
      ]
     },
     "execution_count": 37,
     "metadata": {},
     "output_type": "execute_result"
    }
   ],
   "source": [
    "list1 + list2"
   ]
  },
  {
   "cell_type": "code",
   "execution_count": 38,
   "id": "be1d533c",
   "metadata": {
    "scrolled": true
   },
   "outputs": [
    {
     "data": {
      "text/plain": [
       "[12, 9.9, 'autodock', True, 12, 9.9, 'autodock', True]"
      ]
     },
     "execution_count": 38,
     "metadata": {},
     "output_type": "execute_result"
    }
   ],
   "source": [
    "list1*2"
   ]
  },
  {
   "cell_type": "code",
   "execution_count": 39,
   "id": "5679b33f",
   "metadata": {},
   "outputs": [
    {
     "data": {
      "text/plain": [
       "[12,\n",
       " 9.9,\n",
       " 'autodock',\n",
       " True,\n",
       " 144,\n",
       " 12.2,\n",
       " 2.8,\n",
       " 'Noor',\n",
       " True,\n",
       " False,\n",
       " 7.8,\n",
       " 239,\n",
       " 12,\n",
       " 9.9,\n",
       " 'autodock',\n",
       " True,\n",
       " 144,\n",
       " 12.2,\n",
       " 2.8,\n",
       " 'Noor',\n",
       " True,\n",
       " False,\n",
       " 7.8,\n",
       " 239]"
      ]
     },
     "execution_count": 39,
     "metadata": {},
     "output_type": "execute_result"
    }
   ],
   "source": [
    "list2*2"
   ]
  },
  {
   "cell_type": "code",
   "execution_count": 40,
   "id": "64114721",
   "metadata": {},
   "outputs": [
    {
     "data": {
      "text/plain": [
       "[True, 'autodock', 9.9, 12]"
      ]
     },
     "execution_count": 40,
     "metadata": {},
     "output_type": "execute_result"
    }
   ],
   "source": [
    "list1. reverse()\n",
    "list1"
   ]
  },
  {
   "cell_type": "code",
   "execution_count": 41,
   "id": "a17d4c29",
   "metadata": {},
   "outputs": [
    {
     "data": {
      "text/plain": [
       "[239, 7.8, False, True, 'Noor', 2.8, 12.2, 144, True, 'autodock', 9.9, 12]"
      ]
     },
     "execution_count": 41,
     "metadata": {},
     "output_type": "execute_result"
    }
   ],
   "source": [
    "list2.reverse()\n",
    "list2"
   ]
  },
  {
   "cell_type": "code",
   "execution_count": 42,
   "id": "1d10fcb5",
   "metadata": {
    "scrolled": true
   },
   "outputs": [
    {
     "data": {
      "text/plain": [
       "[True, 'autodock', 9.9, 12, 'codanics']"
      ]
     },
     "execution_count": 42,
     "metadata": {},
     "output_type": "execute_result"
    }
   ],
   "source": [
    "list1.append(\"codanics\")\n",
    "list1"
   ]
  },
  {
   "cell_type": "code",
   "execution_count": 48,
   "id": "d3b8d8db",
   "metadata": {},
   "outputs": [],
   "source": [
    "list1.count()\n",
    "#list.count function"
   ]
  },
  {
   "cell_type": "code",
   "execution_count": 55,
   "id": "de714946",
   "metadata": {},
   "outputs": [
    {
     "data": {
      "text/plain": [
       "[1000, 450, 60, 80, 100, 400, 800, 1200]"
      ]
     },
     "execution_count": 55,
     "metadata": {},
     "output_type": "execute_result"
    }
   ],
   "source": [
    "list3= [1000,450,60,80,100,400,800,1200]\n",
    "list3"
   ]
  },
  {
   "cell_type": "code",
   "execution_count": 51,
   "id": "2ba16fbb",
   "metadata": {},
   "outputs": [
    {
     "data": {
      "text/plain": [
       "8"
      ]
     },
     "execution_count": 51,
     "metadata": {},
     "output_type": "execute_result"
    }
   ],
   "source": [
    "len(list3)"
   ]
  },
  {
   "cell_type": "code",
   "execution_count": 56,
   "id": "da296975",
   "metadata": {},
   "outputs": [
    {
     "data": {
      "text/plain": [
       "[60, 80, 100, 400, 450, 800, 1000, 1200]"
      ]
     },
     "execution_count": 56,
     "metadata": {},
     "output_type": "execute_result"
    }
   ],
   "source": [
    "#sorting a list\n",
    "list3.sort()\n",
    "list3"
   ]
  },
  {
   "cell_type": "code",
   "execution_count": 57,
   "id": "7ae13946",
   "metadata": {},
   "outputs": [
    {
     "data": {
      "text/plain": [
       "[60,\n",
       " 80,\n",
       " 100,\n",
       " 400,\n",
       " 450,\n",
       " 800,\n",
       " 1000,\n",
       " 1200,\n",
       " 60,\n",
       " 80,\n",
       " 100,\n",
       " 400,\n",
       " 450,\n",
       " 800,\n",
       " 1000,\n",
       " 1200]"
      ]
     },
     "execution_count": 57,
     "metadata": {},
     "output_type": "execute_result"
    }
   ],
   "source": [
    "list3*2"
   ]
  },
  {
   "cell_type": "code",
   "execution_count": 59,
   "id": "4f989be5",
   "metadata": {},
   "outputs": [
    {
     "data": {
      "text/plain": [
       "[True, 'autodock', 9.9, 12, 'codanics', 60, 80, 100, 400, 450, 800, 1000, 1200]"
      ]
     },
     "execution_count": 59,
     "metadata": {},
     "output_type": "execute_result"
    }
   ],
   "source": [
    "list= list1 + list3\n",
    "list"
   ]
  },
  {
   "cell_type": "markdown",
   "id": "9900bc49",
   "metadata": {},
   "source": [
    "## 3- Dictionaries\n",
    " - an unordered collection of elements\n",
    " - keys and values\n",
    " - { }\n",
    " - mutateable, we can change the value"
   ]
  },
  {
   "cell_type": "code",
   "execution_count": 65,
   "id": "8ee67c28",
   "metadata": {},
   "outputs": [
    {
     "data": {
      "text/plain": [
       "{'pizza': 500,\n",
       " 'burger': 150,\n",
       " 'shawarma': 200,\n",
       " 'french fries': 30,\n",
       " 'soft drink': 25,\n",
       " 'steak': 350}"
      ]
     },
     "execution_count": 65,
     "metadata": {},
     "output_type": "execute_result"
    }
   ],
   "source": [
    "#food and their prices\n",
    "menu1= {\"pizza\":500, \"burger\": 150, \"shawarma\":200, \"french fries\":30, \"soft drink\": 25, \"steak\": 350}\n",
    "menu1"
   ]
  },
  {
   "cell_type": "code",
   "execution_count": 66,
   "id": "dc43b334",
   "metadata": {},
   "outputs": [
    {
     "data": {
      "text/plain": [
       "dict"
      ]
     },
     "execution_count": 66,
     "metadata": {},
     "output_type": "execute_result"
    }
   ],
   "source": [
    "type(menu1)"
   ]
  },
  {
   "cell_type": "code",
   "execution_count": 67,
   "id": "89d5c96c",
   "metadata": {},
   "outputs": [
    {
     "data": {
      "text/plain": [
       "dict_keys(['pizza', 'burger', 'shawarma', 'french fries', 'soft drink', 'steak'])"
      ]
     },
     "execution_count": 67,
     "metadata": {},
     "output_type": "execute_result"
    }
   ],
   "source": [
    "# to extract data\n",
    "menu1.keys()"
   ]
  },
  {
   "cell_type": "code",
   "execution_count": 70,
   "id": "73978c2e",
   "metadata": {},
   "outputs": [
    {
     "data": {
      "text/plain": [
       "dict_values([500, 150, 200, 30, 25, 350])"
      ]
     },
     "execution_count": 70,
     "metadata": {},
     "output_type": "execute_result"
    }
   ],
   "source": [
    "menu1.values()"
   ]
  },
  {
   "cell_type": "code",
   "execution_count": 75,
   "id": "dacdae4c",
   "metadata": {},
   "outputs": [
    {
     "data": {
      "text/plain": [
       "{'pizza': 500,\n",
       " 'burger': 150,\n",
       " 'shawarma': 200,\n",
       " 'french fries': 30,\n",
       " 'soft drink': 25,\n",
       " 'steak': 350,\n",
       " 'pasta': 80}"
      ]
     },
     "execution_count": 75,
     "metadata": {},
     "output_type": "execute_result"
    }
   ],
   "source": [
    "#adding new element\n",
    "menu1[\"pasta\"]=80\n",
    "menu1"
   ]
  },
  {
   "cell_type": "code",
   "execution_count": 76,
   "id": "1428c8b1",
   "metadata": {},
   "outputs": [
    {
     "data": {
      "text/plain": [
       "{'pizza': 500,\n",
       " 'burger': 150,\n",
       " 'shawarma': 200,\n",
       " 'french fries': 30,\n",
       " 'soft drink': 25,\n",
       " 'steak': 350,\n",
       " 'pasta': 90}"
      ]
     },
     "execution_count": 76,
     "metadata": {},
     "output_type": "execute_result"
    }
   ],
   "source": [
    "#update the value\n",
    "menu1[\"pasta\"]= 90\n",
    "menu1"
   ]
  },
  {
   "cell_type": "code",
   "execution_count": 83,
   "id": "173e1c7b",
   "metadata": {},
   "outputs": [
    {
     "data": {
      "text/plain": [
       "{'rice': 250, 'oil': 1000, 'flour': 350}"
      ]
     },
     "execution_count": 83,
     "metadata": {},
     "output_type": "execute_result"
    }
   ],
   "source": [
    "grocery_list1= {\"rice\":250,\"oil\":1000,\"flour\":350}\n",
    "grocery_list1"
   ]
  },
  {
   "cell_type": "code",
   "execution_count": 87,
   "id": "cd2159fc",
   "metadata": {},
   "outputs": [
    {
     "data": {
      "text/plain": [
       "{'pizza': 500,\n",
       " 'burger': 150,\n",
       " 'shawarma': 200,\n",
       " 'french fries': 30,\n",
       " 'soft drink': 25,\n",
       " 'steak': 350,\n",
       " 'pasta': 90,\n",
       " 'rice': 250,\n",
       " 'oil': 1000,\n",
       " 'flour': 350}"
      ]
     },
     "execution_count": 87,
     "metadata": {},
     "output_type": "execute_result"
    }
   ],
   "source": [
    "#to concatinate, you have to update the list\n",
    "menu1.update(grocery_list1)\n",
    "menu1"
   ]
  },
  {
   "cell_type": "markdown",
   "id": "6adca063",
   "metadata": {},
   "source": [
    "## 4- Set\n",
    "- unordered and unindexed\n",
    "- { }\n",
    "- no duplicates are allowed"
   ]
  },
  {
   "cell_type": "code",
   "execution_count": 89,
   "id": "5c98f0f9",
   "metadata": {},
   "outputs": [
    {
     "data": {
      "text/plain": [
       "{1, 2.2, 5.44, 'autodock', 'python'}"
      ]
     },
     "execution_count": 89,
     "metadata": {},
     "output_type": "execute_result"
    }
   ],
   "source": [
    "s1= {1,2.2,5.44,\"autodock\",\"python\"}\n",
    "s1"
   ]
  },
  {
   "cell_type": "code",
   "execution_count": 90,
   "id": "db9f21d5",
   "metadata": {},
   "outputs": [
    {
     "data": {
      "text/plain": [
       "5"
      ]
     },
     "execution_count": 90,
     "metadata": {},
     "output_type": "execute_result"
    }
   ],
   "source": [
    "len(s1)"
   ]
  },
  {
   "cell_type": "code",
   "execution_count": 91,
   "id": "3cc2750e",
   "metadata": {},
   "outputs": [
    {
     "data": {
      "text/plain": [
       "set"
      ]
     },
     "execution_count": 91,
     "metadata": {},
     "output_type": "execute_result"
    }
   ],
   "source": [
    "type(s1)"
   ]
  },
  {
   "cell_type": "code",
   "execution_count": 93,
   "id": "6f35707c",
   "metadata": {},
   "outputs": [
    {
     "data": {
      "text/plain": [
       "{1, 2.2, 5.44, 'autodock', 'codanics', 'python'}"
      ]
     },
     "execution_count": 93,
     "metadata": {},
     "output_type": "execute_result"
    }
   ],
   "source": [
    "s1.add(\"codanics\")\n",
    "s1"
   ]
  },
  {
   "cell_type": "code",
   "execution_count": 94,
   "id": "7aa76494",
   "metadata": {},
   "outputs": [
    {
     "data": {
      "text/plain": [
       "{1, 2.2, 5.44, 'codanics', 'python'}"
      ]
     },
     "execution_count": 94,
     "metadata": {},
     "output_type": "execute_result"
    }
   ],
   "source": [
    "s1.remove(\"autodock\")\n",
    "s1"
   ]
  },
  {
   "cell_type": "code",
   "execution_count": 96,
   "id": "b1a684da",
   "metadata": {},
   "outputs": [
    {
     "data": {
      "text/plain": [
       "set()"
      ]
     },
     "execution_count": 96,
     "metadata": {},
     "output_type": "execute_result"
    }
   ],
   "source": [
    "s1.clear()\n",
    "s1"
   ]
  },
  {
   "cell_type": "code",
   "execution_count": 98,
   "id": "e32e2735",
   "metadata": {},
   "outputs": [
    {
     "data": {
      "text/plain": [
       "{3.3, 4, 'elif'}"
      ]
     },
     "execution_count": 98,
     "metadata": {},
     "output_type": "execute_result"
    }
   ],
   "source": [
    "s2={4,3.3,\"elif\"}\n",
    "s2"
   ]
  },
  {
   "cell_type": "code",
   "execution_count": 99,
   "id": "29337001",
   "metadata": {},
   "outputs": [
    {
     "data": {
      "text/plain": [
       "set()"
      ]
     },
     "execution_count": 99,
     "metadata": {},
     "output_type": "execute_result"
    }
   ],
   "source": [
    "s1.difference()"
   ]
  }
 ],
 "metadata": {
  "kernelspec": {
   "display_name": "Python 3 (ipykernel)",
   "language": "python",
   "name": "python3"
  },
  "language_info": {
   "codemirror_mode": {
    "name": "ipython",
    "version": 3
   },
   "file_extension": ".py",
   "mimetype": "text/x-python",
   "name": "python",
   "nbconvert_exporter": "python",
   "pygments_lexer": "ipython3",
   "version": "3.9.7"
  }
 },
 "nbformat": 4,
 "nbformat_minor": 5
}
